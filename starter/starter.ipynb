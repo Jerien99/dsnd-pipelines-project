{
 "cells": [
  {
   "cell_type": "markdown",
   "metadata": {},
   "source": [
    "# Pipeline Project"
   ]
  },
  {
   "cell_type": "markdown",
   "metadata": {},
   "source": [
    "You will be using the provided data to create a machine learning model pipeline.\n",
    "\n",
    "You must handle the data appropriately in your pipeline to predict whether an\n",
    "item is recommended by a customer based on their review.\n",
    "Note the data includes numerical, categorical, and text data.\n",
    "\n",
    "You should ensure you properly train and evaluate your model."
   ]
  },
  {
   "cell_type": "markdown",
   "metadata": {},
   "source": [
    "## The Data"
   ]
  },
  {
   "cell_type": "markdown",
   "metadata": {},
   "source": [
    "The dataset has been anonymized and cleaned of missing values.\n",
    "\n",
    "There are 8 features for to use to predict whether a customer recommends or does\n",
    "not recommend a product.\n",
    "The `Recommended IND` column gives whether a customer recommends the product\n",
    "where `1` is recommended and a `0` is not recommended.\n",
    "This is your model's target/"
   ]
  },
  {
   "cell_type": "markdown",
   "metadata": {},
   "source": [
    "The features can be summarized as the following:\n",
    "\n",
    "- **Clothing ID**: Integer Categorical variable that refers to the specific piece being reviewed.\n",
    "- **Age**: Positive Integer variable of the reviewers age.\n",
    "- **Title**: String variable for the title of the review.\n",
    "- **Review Text**: String variable for the review body.\n",
    "- **Positive Feedback Count**: Positive Integer documenting the number of other customers who found this review positive.\n",
    "- **Division Name**: Categorical name of the product high level division.\n",
    "- **Department Name**: Categorical name of the product department name.\n",
    "- **Class Name**: Categorical name of the product class name.\n",
    "\n",
    "The target:\n",
    "- **Recommended IND**: Binary variable stating where the customer recommends the product where 1 is recommended, 0 is not recommended."
   ]
  },
  {
   "cell_type": "markdown",
   "metadata": {},
   "source": [
    "## Load Data"
   ]
  },
  {
   "cell_type": "code",
   "execution_count": 233,
   "metadata": {},
   "outputs": [
    {
     "name": "stdout",
     "output_type": "stream",
     "text": [
      "<class 'pandas.core.frame.DataFrame'>\n",
      "RangeIndex: 18442 entries, 0 to 18441\n",
      "Data columns (total 9 columns):\n",
      " #   Column                   Non-Null Count  Dtype \n",
      "---  ------                   --------------  ----- \n",
      " 0   Clothing ID              18442 non-null  int64 \n",
      " 1   Age                      18442 non-null  int64 \n",
      " 2   Title                    18442 non-null  object\n",
      " 3   Review Text              18442 non-null  object\n",
      " 4   Positive Feedback Count  18442 non-null  int64 \n",
      " 5   Division Name            18442 non-null  object\n",
      " 6   Department Name          18442 non-null  object\n",
      " 7   Class Name               18442 non-null  object\n",
      " 8   Recommended IND          18442 non-null  int64 \n",
      "dtypes: int64(4), object(5)\n",
      "memory usage: 1.3+ MB\n"
     ]
    },
    {
     "data": {
      "text/html": [
       "<div>\n",
       "<style scoped>\n",
       "    .dataframe tbody tr th:only-of-type {\n",
       "        vertical-align: middle;\n",
       "    }\n",
       "\n",
       "    .dataframe tbody tr th {\n",
       "        vertical-align: top;\n",
       "    }\n",
       "\n",
       "    .dataframe thead th {\n",
       "        text-align: right;\n",
       "    }\n",
       "</style>\n",
       "<table border=\"1\" class=\"dataframe\">\n",
       "  <thead>\n",
       "    <tr style=\"text-align: right;\">\n",
       "      <th></th>\n",
       "      <th>Clothing ID</th>\n",
       "      <th>Age</th>\n",
       "      <th>Title</th>\n",
       "      <th>Review Text</th>\n",
       "      <th>Positive Feedback Count</th>\n",
       "      <th>Division Name</th>\n",
       "      <th>Department Name</th>\n",
       "      <th>Class Name</th>\n",
       "      <th>Recommended IND</th>\n",
       "    </tr>\n",
       "  </thead>\n",
       "  <tbody>\n",
       "    <tr>\n",
       "      <th>0</th>\n",
       "      <td>1077</td>\n",
       "      <td>60</td>\n",
       "      <td>Some major design flaws</td>\n",
       "      <td>I had such high hopes for this dress and reall...</td>\n",
       "      <td>0</td>\n",
       "      <td>General</td>\n",
       "      <td>Dresses</td>\n",
       "      <td>Dresses</td>\n",
       "      <td>0</td>\n",
       "    </tr>\n",
       "    <tr>\n",
       "      <th>1</th>\n",
       "      <td>1049</td>\n",
       "      <td>50</td>\n",
       "      <td>My favorite buy!</td>\n",
       "      <td>I love, love, love this jumpsuit. it's fun, fl...</td>\n",
       "      <td>0</td>\n",
       "      <td>General Petite</td>\n",
       "      <td>Bottoms</td>\n",
       "      <td>Pants</td>\n",
       "      <td>1</td>\n",
       "    </tr>\n",
       "    <tr>\n",
       "      <th>2</th>\n",
       "      <td>847</td>\n",
       "      <td>47</td>\n",
       "      <td>Flattering shirt</td>\n",
       "      <td>This shirt is very flattering to all due to th...</td>\n",
       "      <td>6</td>\n",
       "      <td>General</td>\n",
       "      <td>Tops</td>\n",
       "      <td>Blouses</td>\n",
       "      <td>1</td>\n",
       "    </tr>\n",
       "    <tr>\n",
       "      <th>3</th>\n",
       "      <td>1080</td>\n",
       "      <td>49</td>\n",
       "      <td>Not for the very petite</td>\n",
       "      <td>I love tracy reese dresses, but this one is no...</td>\n",
       "      <td>4</td>\n",
       "      <td>General</td>\n",
       "      <td>Dresses</td>\n",
       "      <td>Dresses</td>\n",
       "      <td>0</td>\n",
       "    </tr>\n",
       "    <tr>\n",
       "      <th>4</th>\n",
       "      <td>858</td>\n",
       "      <td>39</td>\n",
       "      <td>Cagrcoal shimmer fun</td>\n",
       "      <td>I aded this in my basket at hte last mintue to...</td>\n",
       "      <td>1</td>\n",
       "      <td>General Petite</td>\n",
       "      <td>Tops</td>\n",
       "      <td>Knits</td>\n",
       "      <td>1</td>\n",
       "    </tr>\n",
       "  </tbody>\n",
       "</table>\n",
       "</div>"
      ],
      "text/plain": [
       "   Clothing ID  Age                    Title  \\\n",
       "0         1077   60  Some major design flaws   \n",
       "1         1049   50         My favorite buy!   \n",
       "2          847   47         Flattering shirt   \n",
       "3         1080   49  Not for the very petite   \n",
       "4          858   39     Cagrcoal shimmer fun   \n",
       "\n",
       "                                         Review Text  Positive Feedback Count  \\\n",
       "0  I had such high hopes for this dress and reall...                        0   \n",
       "1  I love, love, love this jumpsuit. it's fun, fl...                        0   \n",
       "2  This shirt is very flattering to all due to th...                        6   \n",
       "3  I love tracy reese dresses, but this one is no...                        4   \n",
       "4  I aded this in my basket at hte last mintue to...                        1   \n",
       "\n",
       "    Division Name Department Name Class Name  Recommended IND  \n",
       "0         General         Dresses    Dresses                0  \n",
       "1  General Petite         Bottoms      Pants                1  \n",
       "2         General            Tops    Blouses                1  \n",
       "3         General         Dresses    Dresses                0  \n",
       "4  General Petite            Tops      Knits                1  "
      ]
     },
     "execution_count": 233,
     "metadata": {},
     "output_type": "execute_result"
    }
   ],
   "source": [
    "import pandas as pd\n",
    "\n",
    "# Load data\n",
    "df = pd.read_csv(\n",
    "    'data/reviews.csv',\n",
    ")\n",
    "\n",
    "df.info()\n",
    "df.head()"
   ]
  },
  {
   "cell_type": "markdown",
   "metadata": {},
   "source": [
    "## Preparing features (`X`) & target (`y`)"
   ]
  },
  {
   "cell_type": "code",
   "execution_count": 234,
   "metadata": {},
   "outputs": [
    {
     "name": "stdout",
     "output_type": "stream",
     "text": [
      "Labels: [0 1]\n",
      "Features:\n"
     ]
    },
    {
     "data": {
      "text/html": [
       "<div>\n",
       "<style scoped>\n",
       "    .dataframe tbody tr th:only-of-type {\n",
       "        vertical-align: middle;\n",
       "    }\n",
       "\n",
       "    .dataframe tbody tr th {\n",
       "        vertical-align: top;\n",
       "    }\n",
       "\n",
       "    .dataframe thead th {\n",
       "        text-align: right;\n",
       "    }\n",
       "</style>\n",
       "<table border=\"1\" class=\"dataframe\">\n",
       "  <thead>\n",
       "    <tr style=\"text-align: right;\">\n",
       "      <th></th>\n",
       "      <th>Clothing ID</th>\n",
       "      <th>Age</th>\n",
       "      <th>Title</th>\n",
       "      <th>Review Text</th>\n",
       "      <th>Positive Feedback Count</th>\n",
       "      <th>Division Name</th>\n",
       "      <th>Department Name</th>\n",
       "      <th>Class Name</th>\n",
       "    </tr>\n",
       "  </thead>\n",
       "  <tbody>\n",
       "    <tr>\n",
       "      <th>0</th>\n",
       "      <td>1077</td>\n",
       "      <td>60</td>\n",
       "      <td>Some major design flaws</td>\n",
       "      <td>I had such high hopes for this dress and reall...</td>\n",
       "      <td>0</td>\n",
       "      <td>General</td>\n",
       "      <td>Dresses</td>\n",
       "      <td>Dresses</td>\n",
       "    </tr>\n",
       "    <tr>\n",
       "      <th>1</th>\n",
       "      <td>1049</td>\n",
       "      <td>50</td>\n",
       "      <td>My favorite buy!</td>\n",
       "      <td>I love, love, love this jumpsuit. it's fun, fl...</td>\n",
       "      <td>0</td>\n",
       "      <td>General Petite</td>\n",
       "      <td>Bottoms</td>\n",
       "      <td>Pants</td>\n",
       "    </tr>\n",
       "    <tr>\n",
       "      <th>2</th>\n",
       "      <td>847</td>\n",
       "      <td>47</td>\n",
       "      <td>Flattering shirt</td>\n",
       "      <td>This shirt is very flattering to all due to th...</td>\n",
       "      <td>6</td>\n",
       "      <td>General</td>\n",
       "      <td>Tops</td>\n",
       "      <td>Blouses</td>\n",
       "    </tr>\n",
       "    <tr>\n",
       "      <th>3</th>\n",
       "      <td>1080</td>\n",
       "      <td>49</td>\n",
       "      <td>Not for the very petite</td>\n",
       "      <td>I love tracy reese dresses, but this one is no...</td>\n",
       "      <td>4</td>\n",
       "      <td>General</td>\n",
       "      <td>Dresses</td>\n",
       "      <td>Dresses</td>\n",
       "    </tr>\n",
       "    <tr>\n",
       "      <th>4</th>\n",
       "      <td>858</td>\n",
       "      <td>39</td>\n",
       "      <td>Cagrcoal shimmer fun</td>\n",
       "      <td>I aded this in my basket at hte last mintue to...</td>\n",
       "      <td>1</td>\n",
       "      <td>General Petite</td>\n",
       "      <td>Tops</td>\n",
       "      <td>Knits</td>\n",
       "    </tr>\n",
       "  </tbody>\n",
       "</table>\n",
       "</div>"
      ],
      "text/plain": [
       "   Clothing ID  Age                    Title  \\\n",
       "0         1077   60  Some major design flaws   \n",
       "1         1049   50         My favorite buy!   \n",
       "2          847   47         Flattering shirt   \n",
       "3         1080   49  Not for the very petite   \n",
       "4          858   39     Cagrcoal shimmer fun   \n",
       "\n",
       "                                         Review Text  Positive Feedback Count  \\\n",
       "0  I had such high hopes for this dress and reall...                        0   \n",
       "1  I love, love, love this jumpsuit. it's fun, fl...                        0   \n",
       "2  This shirt is very flattering to all due to th...                        6   \n",
       "3  I love tracy reese dresses, but this one is no...                        4   \n",
       "4  I aded this in my basket at hte last mintue to...                        1   \n",
       "\n",
       "    Division Name Department Name Class Name  \n",
       "0         General         Dresses    Dresses  \n",
       "1  General Petite         Bottoms      Pants  \n",
       "2         General            Tops    Blouses  \n",
       "3         General         Dresses    Dresses  \n",
       "4  General Petite            Tops      Knits  "
      ]
     },
     "metadata": {},
     "output_type": "display_data"
    }
   ],
   "source": [
    "data = df\n",
    "\n",
    "# separate features from labels\n",
    "X = data.drop('Recommended IND', axis=1)\n",
    "y = data['Recommended IND'].copy()\n",
    "\n",
    "print('Labels:', y.unique())\n",
    "print('Features:')\n",
    "display(X.head())"
   ]
  },
  {
   "cell_type": "code",
   "execution_count": 235,
   "metadata": {},
   "outputs": [],
   "source": [
    "# Split data into train and test sets\n",
    "from sklearn.model_selection import train_test_split\n",
    "\n",
    "X_train, X_test, y_train, y_test = train_test_split(\n",
    "    X,\n",
    "    y,\n",
    "    test_size=0.1,\n",
    "    shuffle=True,\n",
    "    random_state=27,\n",
    ")"
   ]
  },
  {
   "cell_type": "markdown",
   "metadata": {},
   "source": [
    "# Your Work"
   ]
  },
  {
   "cell_type": "code",
   "execution_count": 236,
   "metadata": {},
   "outputs": [],
   "source": [
    "# Load the en_core_web_sm model from SpaCy in the code block below"
   ]
  },
  {
   "cell_type": "code",
   "execution_count": 237,
   "metadata": {},
   "outputs": [
    {
     "name": "stdout",
     "output_type": "stream",
     "text": [
      "Collecting en-core-web-sm==3.8.0\n",
      "  Downloading https://github.com/explosion/spacy-models/releases/download/en_core_web_sm-3.8.0/en_core_web_sm-3.8.0-py3-none-any.whl (12.8 MB)\n",
      "     ---------------------------------------- 0.0/12.8 MB ? eta -:--:--\n",
      "     - -------------------------------------- 0.5/12.8 MB 7.3 MB/s eta 0:00:02\n",
      "     ------ --------------------------------- 2.1/12.8 MB 8.2 MB/s eta 0:00:02\n",
      "     ---------- ----------------------------- 3.4/12.8 MB 7.9 MB/s eta 0:00:02\n",
      "     ----------------- ---------------------- 5.5/12.8 MB 7.7 MB/s eta 0:00:01\n",
      "     ---------------------- ----------------- 7.3/12.8 MB 8.1 MB/s eta 0:00:01\n",
      "     ------------------------------- -------- 10.0/12.8 MB 9.0 MB/s eta 0:00:01\n",
      "     ------------------------------------- -- 12.1/12.8 MB 9.1 MB/s eta 0:00:01\n",
      "     ---------------------------------------- 12.8/12.8 MB 9.0 MB/s eta 0:00:00\n",
      "\u001b[38;5;2m✔ Download and installation successful\u001b[0m\n",
      "You can now load the package via spacy.load('en_core_web_sm')\n"
     ]
    }
   ],
   "source": [
    "! python -m spacy download en_core_web_sm"
   ]
  },
  {
   "cell_type": "code",
   "execution_count": 238,
   "metadata": {},
   "outputs": [],
   "source": [
    "# Load the text data model from SpaCy\n",
    "import spacy\n",
    "nlp = spacy.load('en_core_web_sm')"
   ]
  },
  {
   "cell_type": "markdown",
   "metadata": {},
   "source": [
    "## Data Exploration"
   ]
  },
  {
   "cell_type": "code",
   "execution_count": 239,
   "metadata": {},
   "outputs": [],
   "source": [
    "# Turn the Clothing ID column into a text variable as of its categorical nature\n",
    "X['Clothing ID'] = X['Clothing ID'].astype(str)"
   ]
  },
  {
   "cell_type": "code",
   "execution_count": 240,
   "metadata": {},
   "outputs": [
    {
     "data": {
      "text/html": [
       "<div>\n",
       "<style scoped>\n",
       "    .dataframe tbody tr th:only-of-type {\n",
       "        vertical-align: middle;\n",
       "    }\n",
       "\n",
       "    .dataframe tbody tr th {\n",
       "        vertical-align: top;\n",
       "    }\n",
       "\n",
       "    .dataframe thead th {\n",
       "        text-align: right;\n",
       "    }\n",
       "</style>\n",
       "<table border=\"1\" class=\"dataframe\">\n",
       "  <thead>\n",
       "    <tr style=\"text-align: right;\">\n",
       "      <th></th>\n",
       "      <th>Clothing ID</th>\n",
       "      <th>Age</th>\n",
       "      <th>Title</th>\n",
       "      <th>Review Text</th>\n",
       "      <th>Positive Feedback Count</th>\n",
       "      <th>Division Name</th>\n",
       "      <th>Department Name</th>\n",
       "      <th>Class Name</th>\n",
       "    </tr>\n",
       "  </thead>\n",
       "  <tbody>\n",
       "    <tr>\n",
       "      <th>count</th>\n",
       "      <td>18442</td>\n",
       "      <td>18442.000000</td>\n",
       "      <td>18442</td>\n",
       "      <td>18442</td>\n",
       "      <td>18442.000000</td>\n",
       "      <td>18442</td>\n",
       "      <td>18442</td>\n",
       "      <td>18442</td>\n",
       "    </tr>\n",
       "    <tr>\n",
       "      <th>unique</th>\n",
       "      <td>531</td>\n",
       "      <td>NaN</td>\n",
       "      <td>13142</td>\n",
       "      <td>18439</td>\n",
       "      <td>NaN</td>\n",
       "      <td>2</td>\n",
       "      <td>6</td>\n",
       "      <td>14</td>\n",
       "    </tr>\n",
       "    <tr>\n",
       "      <th>top</th>\n",
       "      <td>1078</td>\n",
       "      <td>NaN</td>\n",
       "      <td>Love it!</td>\n",
       "      <td>I bought this shirt at the store and after goi...</td>\n",
       "      <td>NaN</td>\n",
       "      <td>General</td>\n",
       "      <td>Tops</td>\n",
       "      <td>Dresses</td>\n",
       "    </tr>\n",
       "    <tr>\n",
       "      <th>freq</th>\n",
       "      <td>871</td>\n",
       "      <td>NaN</td>\n",
       "      <td>129</td>\n",
       "      <td>2</td>\n",
       "      <td>NaN</td>\n",
       "      <td>11664</td>\n",
       "      <td>8713</td>\n",
       "      <td>5371</td>\n",
       "    </tr>\n",
       "    <tr>\n",
       "      <th>mean</th>\n",
       "      <td>NaN</td>\n",
       "      <td>43.383635</td>\n",
       "      <td>NaN</td>\n",
       "      <td>NaN</td>\n",
       "      <td>2.697484</td>\n",
       "      <td>NaN</td>\n",
       "      <td>NaN</td>\n",
       "      <td>NaN</td>\n",
       "    </tr>\n",
       "    <tr>\n",
       "      <th>std</th>\n",
       "      <td>NaN</td>\n",
       "      <td>12.246264</td>\n",
       "      <td>NaN</td>\n",
       "      <td>NaN</td>\n",
       "      <td>5.942220</td>\n",
       "      <td>NaN</td>\n",
       "      <td>NaN</td>\n",
       "      <td>NaN</td>\n",
       "    </tr>\n",
       "    <tr>\n",
       "      <th>min</th>\n",
       "      <td>NaN</td>\n",
       "      <td>18.000000</td>\n",
       "      <td>NaN</td>\n",
       "      <td>NaN</td>\n",
       "      <td>0.000000</td>\n",
       "      <td>NaN</td>\n",
       "      <td>NaN</td>\n",
       "      <td>NaN</td>\n",
       "    </tr>\n",
       "    <tr>\n",
       "      <th>25%</th>\n",
       "      <td>NaN</td>\n",
       "      <td>34.000000</td>\n",
       "      <td>NaN</td>\n",
       "      <td>NaN</td>\n",
       "      <td>0.000000</td>\n",
       "      <td>NaN</td>\n",
       "      <td>NaN</td>\n",
       "      <td>NaN</td>\n",
       "    </tr>\n",
       "    <tr>\n",
       "      <th>50%</th>\n",
       "      <td>NaN</td>\n",
       "      <td>41.000000</td>\n",
       "      <td>NaN</td>\n",
       "      <td>NaN</td>\n",
       "      <td>1.000000</td>\n",
       "      <td>NaN</td>\n",
       "      <td>NaN</td>\n",
       "      <td>NaN</td>\n",
       "    </tr>\n",
       "    <tr>\n",
       "      <th>75%</th>\n",
       "      <td>NaN</td>\n",
       "      <td>52.000000</td>\n",
       "      <td>NaN</td>\n",
       "      <td>NaN</td>\n",
       "      <td>3.000000</td>\n",
       "      <td>NaN</td>\n",
       "      <td>NaN</td>\n",
       "      <td>NaN</td>\n",
       "    </tr>\n",
       "    <tr>\n",
       "      <th>max</th>\n",
       "      <td>NaN</td>\n",
       "      <td>99.000000</td>\n",
       "      <td>NaN</td>\n",
       "      <td>NaN</td>\n",
       "      <td>122.000000</td>\n",
       "      <td>NaN</td>\n",
       "      <td>NaN</td>\n",
       "      <td>NaN</td>\n",
       "    </tr>\n",
       "  </tbody>\n",
       "</table>\n",
       "</div>"
      ],
      "text/plain": [
       "       Clothing ID           Age     Title  \\\n",
       "count        18442  18442.000000     18442   \n",
       "unique         531           NaN     13142   \n",
       "top           1078           NaN  Love it!   \n",
       "freq           871           NaN       129   \n",
       "mean           NaN     43.383635       NaN   \n",
       "std            NaN     12.246264       NaN   \n",
       "min            NaN     18.000000       NaN   \n",
       "25%            NaN     34.000000       NaN   \n",
       "50%            NaN     41.000000       NaN   \n",
       "75%            NaN     52.000000       NaN   \n",
       "max            NaN     99.000000       NaN   \n",
       "\n",
       "                                              Review Text  \\\n",
       "count                                               18442   \n",
       "unique                                              18439   \n",
       "top     I bought this shirt at the store and after goi...   \n",
       "freq                                                    2   \n",
       "mean                                                  NaN   \n",
       "std                                                   NaN   \n",
       "min                                                   NaN   \n",
       "25%                                                   NaN   \n",
       "50%                                                   NaN   \n",
       "75%                                                   NaN   \n",
       "max                                                   NaN   \n",
       "\n",
       "        Positive Feedback Count Division Name Department Name Class Name  \n",
       "count              18442.000000         18442           18442      18442  \n",
       "unique                      NaN             2               6         14  \n",
       "top                         NaN       General            Tops    Dresses  \n",
       "freq                        NaN         11664            8713       5371  \n",
       "mean                   2.697484           NaN             NaN        NaN  \n",
       "std                    5.942220           NaN             NaN        NaN  \n",
       "min                    0.000000           NaN             NaN        NaN  \n",
       "25%                    0.000000           NaN             NaN        NaN  \n",
       "50%                    1.000000           NaN             NaN        NaN  \n",
       "75%                    3.000000           NaN             NaN        NaN  \n",
       "max                  122.000000           NaN             NaN        NaN  "
      ]
     },
     "execution_count": 240,
     "metadata": {},
     "output_type": "execute_result"
    }
   ],
   "source": [
    "# Generate summary statistics for the numerical variables\n",
    "X.describe(include='all')"
   ]
  },
  {
   "cell_type": "code",
   "execution_count": 241,
   "metadata": {},
   "outputs": [],
   "source": [
    "# Observations: the number of distinct clothing ID's is very large, \n",
    "# therefore making it not ideal as a categorical variable in the predictive model \n",
    "# (since the OneHotEncoder will generate 531 distinct boolean variables). \n",
    "# The 'count' row again confirms that there are no missing values for any variables,\n",
    "# which means that an imputer step is not necessary in the preprocessing part of the pipeline. \n",
    "# Furthermore, the numerical columns 'Age' and 'Positive Feedback Count' seem to contain \n",
    "# a sizeable spread of values (with max age 99 and max positive feedback count 122).\n",
    "# Therefore, take the potential for outliers into account when, for instance, \n",
    "# choosing the right scaler in the numerical pipeline."
   ]
  },
  {
   "cell_type": "code",
   "execution_count": 242,
   "metadata": {},
   "outputs": [
    {
     "data": {
      "text/plain": [
       "count    18442.000000\n",
       "mean         0.816235\n",
       "std          0.387303\n",
       "min          0.000000\n",
       "25%          1.000000\n",
       "50%          1.000000\n",
       "75%          1.000000\n",
       "max          1.000000\n",
       "Name: Recommended IND, dtype: float64"
      ]
     },
     "execution_count": 242,
     "metadata": {},
     "output_type": "execute_result"
    }
   ],
   "source": [
    "y.describe()"
   ]
  },
  {
   "cell_type": "code",
   "execution_count": 243,
   "metadata": {},
   "outputs": [],
   "source": [
    "# Observations: With a mean of 0.81, most people recommend the product. \n",
    "# Therefore, the categories of this variable are slightly imbalanced, \n",
    "# although not to a degree that would immediately ring the alarm bells.\n",
    "# Be mindful of this when choosing the right method for training and prediction."
   ]
  },
  {
   "cell_type": "markdown",
   "metadata": {},
   "source": [
    "## Building Pipeline"
   ]
  },
  {
   "cell_type": "code",
   "execution_count": 244,
   "metadata": {},
   "outputs": [],
   "source": [
    "# Select the columns that need to flow into the numerical, categorical and text preprocessing part of the pipeline \n",
    "num_features = (X.select_dtypes(exclude=['object']).columns)\n",
    "cat_features = (X.select_dtypes(include=['object']).columns.drop(['Review Text', 'Clothing ID', 'Title']))\n",
    "text_features = 'Review Text' # (X[['Review Text']]).columns"
   ]
  },
  {
   "cell_type": "code",
   "execution_count": 245,
   "metadata": {},
   "outputs": [],
   "source": [
    "from sklearn.pipeline import Pipeline\n",
    "from sklearn.preprocessing import RobustScaler\n",
    "\n",
    "# Build the numerical preprocessing pipeline\n",
    "num_pipeline = Pipeline([\n",
    "    ('scaler', RobustScaler())\n",
    "])"
   ]
  },
  {
   "cell_type": "code",
   "execution_count": 246,
   "metadata": {},
   "outputs": [],
   "source": [
    "from sklearn.preprocessing import OneHotEncoder\n",
    "\n",
    "# Build the categorical preprocessing pipeline. There are no ordinal variables, so one hot encoding is sufficient\n",
    "cat_pipeline = Pipeline([\n",
    "    ('cat_encoder', OneHotEncoder(sparse_output=False, handle_unknown='ignore'))\n",
    "])"
   ]
  },
  {
   "cell_type": "code",
   "execution_count": 247,
   "metadata": {},
   "outputs": [],
   "source": [
    "# Build a class for feature extraction (the number of words in a text,\n",
    "#  operationalized as the number of chunks in a review text separated by whitespace)\n",
    "from sklearn.base import BaseEstimator, TransformerMixin\n",
    "\n",
    "class CountWords(BaseEstimator, TransformerMixin):\n",
    "    def __init__(self, character):\n",
    "        self.character = character\n",
    "\n",
    "    def fit(self, X, y=None):\n",
    "        return self\n",
    "    \n",
    "    def transform(self, X):\n",
    "        feature = [[len(text.split(self.character))] for text in X]\n",
    "        return pd.DataFrame(data=feature)\n",
    "\n",
    "# Make this feature extraction into a pipeline\n",
    "word_count_pipeline = Pipeline([\n",
    "    ('count_words', CountWords(character=' '))\n",
    "])"
   ]
  },
  {
   "cell_type": "code",
   "execution_count": 248,
   "metadata": {},
   "outputs": [],
   "source": [
    "# Build a pipeline for a tfidf vectorizer. This is used for feature extraction\n",
    "# that account for the frequency and significance of words in a review.\n",
    "# Before the tfidf vectorizer is executed, a lemmatizer is used for\n",
    "# additional cleaning of the input text data.\n",
    "\n",
    "from sklearn.feature_extraction.text import TfidfVectorizer\n",
    "\n",
    "# Build a class for the lemmatizer\n",
    "class SpacyLemmatizer(BaseEstimator, TransformerMixin):\n",
    "    def __init__(self, nlp):\n",
    "        self.nlp = nlp\n",
    "    \n",
    "    def fit(self, X, y=None):\n",
    "        return self\n",
    "    \n",
    "    def transform(self, X):\n",
    "        lemmatized = X.apply(lambda x: \" \".join([y.lemma_ for y in self.nlp(x)]))\n",
    "        return lemmatized\n",
    "\n",
    "# Define the tfidf pipeline\n",
    "tfidf_pipeline = Pipeline([\n",
    "    ('lemmatizer', SpacyLemmatizer(nlp=nlp)),\n",
    "    ('tfidf', TfidfVectorizer(stop_words='english'))\n",
    "])"
   ]
  },
  {
   "cell_type": "code",
   "execution_count": 249,
   "metadata": {},
   "outputs": [],
   "source": [
    "# Now, merge all pipelines above using a ColumnTransformer\n",
    "from sklearn.compose import ColumnTransformer\n",
    "\n",
    "feature_engineering = ColumnTransformer([\n",
    "    ('num', num_pipeline, num_features),\n",
    "    ('cat', cat_pipeline, cat_features),\n",
    "    ('word_counts', word_count_pipeline, text_features),\n",
    "    ('tfidf_text', tfidf_pipeline, text_features)\n",
    "])"
   ]
  },
  {
   "cell_type": "markdown",
   "metadata": {},
   "source": [
    "## Training Pipeline"
   ]
  },
  {
   "cell_type": "code",
   "execution_count": 250,
   "metadata": {},
   "outputs": [
    {
     "name": "stderr",
     "output_type": "stream",
     "text": [
      "c:\\Users\\J60849\\AppData\\Local\\Programs\\Python\\Python313\\Lib\\site-packages\\sklearn\\pipeline.py:61: FutureWarning: This Pipeline instance is not fitted yet. Call 'fit' with appropriate arguments before using other methods such as transform, predict, etc. This will raise an error in 1.8 instead of the current warning.\n",
      "  warnings.warn(\n"
     ]
    }
   ],
   "source": [
    "# Import a RandomForestClassifier, since the random forest averages over \n",
    "# multiple trees, which makes it less bias-prone and a little more\n",
    "# robust to class imbalance than regular decision trees.\n",
    "from sklearn.ensemble import RandomForestClassifier\n",
    "from sklearn.pipeline import make_pipeline\n",
    "\n",
    "# Define and fit the total pipeline on the training data, from feature engineering to fitting the model\n",
    "model_pipeline = make_pipeline(feature_engineering, RandomForestClassifier(random_state=42))\n",
    "model = model_pipeline.fit(X_train, y_train)\n",
    "y_pred = model.predict(X_test)"
   ]
  },
  {
   "cell_type": "markdown",
   "metadata": {},
   "source": [
    "## Fine-Tuning Pipeline"
   ]
  },
  {
   "cell_type": "code",
   "execution_count": 251,
   "metadata": {},
   "outputs": [
    {
     "name": "stdout",
     "output_type": "stream",
     "text": [
      "Accuracy:     0.8476964769647697\n",
      "Recall:     0.9888010540184453\n",
      "Precision:     0.8504249291784702\n",
      "F1-score:     0.9144075540664027\n"
     ]
    }
   ],
   "source": [
    "from sklearn.metrics import accuracy_score, recall_score, precision_score, f1_score\n",
    "\n",
    "# Calculate evaluation metrics of the model fitted above\n",
    "accuracy_initial = accuracy_score(y_test, y_pred)\n",
    "recall_initial = recall_score(y_test, y_pred)\n",
    "precision_initial = precision_score(y_test, y_pred)\n",
    "f1_initial = f1_score(y_test, y_pred)\n",
    "\n",
    "print('Accuracy:    ', accuracy_initial)\n",
    "print('Recall:    ', recall_initial)\n",
    "print('Precision:    ', precision_initial)\n",
    "print('F1-score:    ', f1_initial)"
   ]
  },
  {
   "cell_type": "code",
   "execution_count": 252,
   "metadata": {},
   "outputs": [],
   "source": [
    "# The model shows an accuracy of (rounded to two decimals) 0.85. \n",
    "# But, since the dataset is slightly imbalanced (80 percent of reviews \n",
    "# recommend the product and 20 percent do not), accuracy is not the best\n",
    "# evaluation metric. The relatively lower precision than recall indicates\n",
    "# that the model is better in avoiding false negatives than false positives.\n",
    "# This means that the model will not often indicate that someone does not\n",
    "# recommend the product when they in fact do. In reverse, the model will more\n",
    "# often fail to correctly predict that someone does not recommend the product.\n",
    "# In this way, the model still tends to the majority class, which is not entirely\n",
    "# surprising given the class imbalance.\n",
    "# The F1-score, which combines precision and recall, is approximately 0.91,\n",
    "# which is relatively decent. "
   ]
  },
  {
   "cell_type": "code",
   "execution_count": 253,
   "metadata": {},
   "outputs": [
    {
     "data": {
      "text/plain": [
       "dict_keys(['memory', 'steps', 'transform_input', 'verbose', 'columntransformer', 'randomforestclassifier', 'columntransformer__force_int_remainder_cols', 'columntransformer__n_jobs', 'columntransformer__remainder', 'columntransformer__sparse_threshold', 'columntransformer__transformer_weights', 'columntransformer__transformers', 'columntransformer__verbose', 'columntransformer__verbose_feature_names_out', 'columntransformer__num', 'columntransformer__cat', 'columntransformer__word_counts', 'columntransformer__tfidf_text', 'columntransformer__num__memory', 'columntransformer__num__steps', 'columntransformer__num__transform_input', 'columntransformer__num__verbose', 'columntransformer__num__scaler', 'columntransformer__num__scaler__copy', 'columntransformer__num__scaler__quantile_range', 'columntransformer__num__scaler__unit_variance', 'columntransformer__num__scaler__with_centering', 'columntransformer__num__scaler__with_scaling', 'columntransformer__cat__memory', 'columntransformer__cat__steps', 'columntransformer__cat__transform_input', 'columntransformer__cat__verbose', 'columntransformer__cat__cat_encoder', 'columntransformer__cat__cat_encoder__categories', 'columntransformer__cat__cat_encoder__drop', 'columntransformer__cat__cat_encoder__dtype', 'columntransformer__cat__cat_encoder__feature_name_combiner', 'columntransformer__cat__cat_encoder__handle_unknown', 'columntransformer__cat__cat_encoder__max_categories', 'columntransformer__cat__cat_encoder__min_frequency', 'columntransformer__cat__cat_encoder__sparse_output', 'columntransformer__word_counts__memory', 'columntransformer__word_counts__steps', 'columntransformer__word_counts__transform_input', 'columntransformer__word_counts__verbose', 'columntransformer__word_counts__count_words', 'columntransformer__word_counts__count_words__character', 'columntransformer__tfidf_text__memory', 'columntransformer__tfidf_text__steps', 'columntransformer__tfidf_text__transform_input', 'columntransformer__tfidf_text__verbose', 'columntransformer__tfidf_text__lemmatizer', 'columntransformer__tfidf_text__tfidf', 'columntransformer__tfidf_text__lemmatizer__nlp', 'columntransformer__tfidf_text__tfidf__analyzer', 'columntransformer__tfidf_text__tfidf__binary', 'columntransformer__tfidf_text__tfidf__decode_error', 'columntransformer__tfidf_text__tfidf__dtype', 'columntransformer__tfidf_text__tfidf__encoding', 'columntransformer__tfidf_text__tfidf__input', 'columntransformer__tfidf_text__tfidf__lowercase', 'columntransformer__tfidf_text__tfidf__max_df', 'columntransformer__tfidf_text__tfidf__max_features', 'columntransformer__tfidf_text__tfidf__min_df', 'columntransformer__tfidf_text__tfidf__ngram_range', 'columntransformer__tfidf_text__tfidf__norm', 'columntransformer__tfidf_text__tfidf__preprocessor', 'columntransformer__tfidf_text__tfidf__smooth_idf', 'columntransformer__tfidf_text__tfidf__stop_words', 'columntransformer__tfidf_text__tfidf__strip_accents', 'columntransformer__tfidf_text__tfidf__sublinear_tf', 'columntransformer__tfidf_text__tfidf__token_pattern', 'columntransformer__tfidf_text__tfidf__tokenizer', 'columntransformer__tfidf_text__tfidf__use_idf', 'columntransformer__tfidf_text__tfidf__vocabulary', 'randomforestclassifier__bootstrap', 'randomforestclassifier__ccp_alpha', 'randomforestclassifier__class_weight', 'randomforestclassifier__criterion', 'randomforestclassifier__max_depth', 'randomforestclassifier__max_features', 'randomforestclassifier__max_leaf_nodes', 'randomforestclassifier__max_samples', 'randomforestclassifier__min_impurity_decrease', 'randomforestclassifier__min_samples_leaf', 'randomforestclassifier__min_samples_split', 'randomforestclassifier__min_weight_fraction_leaf', 'randomforestclassifier__monotonic_cst', 'randomforestclassifier__n_estimators', 'randomforestclassifier__n_jobs', 'randomforestclassifier__oob_score', 'randomforestclassifier__random_state', 'randomforestclassifier__verbose', 'randomforestclassifier__warm_start'])"
      ]
     },
     "execution_count": 253,
     "metadata": {},
     "output_type": "execute_result"
    }
   ],
   "source": [
    "# Show hyperparameters that can be optimized\n",
    "model_pipeline.get_params().keys()"
   ]
  },
  {
   "cell_type": "code",
   "execution_count": null,
   "metadata": {},
   "outputs": [
    {
     "name": "stdout",
     "output_type": "stream",
     "text": [
      "Fitting 5 folds for each of 6 candidates, totalling 30 fits\n"
     ]
    }
   ],
   "source": [
    "from sklearn.model_selection import RandomizedSearchCV\n",
    "\n",
    "# Perform a Randomized Search with Cross-Validation to find optimal hyperparameters\n",
    "# Here, the Randomized Search is adopted for the maximum number of features and the\n",
    "# number of estimators in the Random Forest Classifier step.\n",
    "\n",
    "# This code block took about 19 minutes to run. Hence, from the perspective of\n",
    "# performance, the Randomized Search has been applied to only two hyperparameters.\n",
    "\n",
    "my_distributions = dict(\n",
    "    randomforestclassifier__max_features = [10, 50, 100, 150],\n",
    "    randomforestclassifier__n_estimators = [10, 50, 100, 150]\n",
    ")\n",
    "\n",
    "param_search = RandomizedSearchCV(\n",
    "    estimator=model_pipeline,\n",
    "    param_distributions=my_distributions,\n",
    "    n_iter=6,\n",
    "    cv=5,\n",
    "    n_jobs=-1,\n",
    "    refit=True,\n",
    "    verbose=3,\n",
    "    random_state=42\n",
    ")\n",
    "\n",
    "param_search.fit(X_train, y_train)\n",
    "\n",
    "best_model = param_search.best_estimator_"
   ]
  },
  {
   "cell_type": "code",
   "execution_count": 255,
   "metadata": {},
   "outputs": [
    {
     "name": "stderr",
     "output_type": "stream",
     "text": [
      "c:\\Users\\J60849\\AppData\\Local\\Programs\\Python\\Python313\\Lib\\site-packages\\sklearn\\pipeline.py:61: FutureWarning: This Pipeline instance is not fitted yet. Call 'fit' with appropriate arguments before using other methods such as transform, predict, etc. This will raise an error in 1.8 instead of the current warning.\n",
      "  warnings.warn(\n"
     ]
    }
   ],
   "source": [
    "# Evaluate the best model by fitting it to the entire training data set\n",
    "final_model = best_model.fit(X_train, y_train)\n",
    "y_pred_final = final_model.predict(X_test)"
   ]
  },
  {
   "cell_type": "code",
   "execution_count": 256,
   "metadata": {},
   "outputs": [
    {
     "name": "stdout",
     "output_type": "stream",
     "text": [
      "Accuracy:     0.8476964769647697\n",
      "Recall:     0.9835309617918313\n",
      "Precision:     0.8536306460834763\n",
      "F1-score:     0.913988368533823\n"
     ]
    }
   ],
   "source": [
    "# Print the evaluation metrics of the best model. \n",
    "# As becomes apparent from the output, the evaluation\n",
    "# metrics are roughly similar to the ones generated\n",
    "# before the hyperparameter tuning. Therefore, see\n",
    "# above for the interpretation of these metrics in light\n",
    "# of the model concerned.\n",
    "\n",
    "accuracy_final = accuracy_score(y_test, y_pred_final)\n",
    "recall_final = recall_score(y_test, y_pred_final)\n",
    "precision_final = precision_score(y_test, y_pred_final)\n",
    "f1_final = f1_score(y_test, y_pred_final)\n",
    "\n",
    "print('Accuracy:    ', accuracy_final)\n",
    "print('Recall:    ', recall_final)\n",
    "print('Precision:    ', precision_final)\n",
    "print('F1-score:    ', f1_final)"
   ]
  }
 ],
 "metadata": {
  "kernelspec": {
   "display_name": "Python 3",
   "language": "python",
   "name": "python3"
  },
  "language_info": {
   "codemirror_mode": {
    "name": "ipython",
    "version": 3
   },
   "file_extension": ".py",
   "mimetype": "text/x-python",
   "name": "python",
   "nbconvert_exporter": "python",
   "pygments_lexer": "ipython3",
   "version": "3.13.5"
  }
 },
 "nbformat": 4,
 "nbformat_minor": 2
}
